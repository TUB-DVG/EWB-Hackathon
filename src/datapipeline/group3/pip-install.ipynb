{
 "cells": [
  {
   "cell_type": "code",
   "execution_count": 1,
   "id": "8df586e0-84b1-43f6-b7c3-99331c5e60fa",
   "metadata": {},
   "outputs": [
    {
     "name": "stdout",
     "output_type": "stream",
     "text": [
      "Collecting osmnx\n",
      "  Downloading osmnx-1.9.4-py3-none-any.whl.metadata (4.9 kB)\n",
      "Collecting geopandas<0.15,>=0.12 (from osmnx)\n",
      "  Downloading geopandas-0.14.4-py3-none-any.whl.metadata (1.5 kB)\n",
      "Collecting networkx<3.4,>=2.5 (from osmnx)\n",
      "  Downloading networkx-3.3-py3-none-any.whl.metadata (5.1 kB)\n",
      "Collecting numpy<1.27,>=1.20 (from osmnx)\n",
      "  Downloading numpy-1.26.4-cp312-cp312-manylinux_2_17_x86_64.manylinux2014_x86_64.whl.metadata (61 kB)\n",
      "\u001b[2K     \u001b[90m━━━━━━━━━━━━━━━━━━━━━━━━━━━━━━━━━━━━━━━━\u001b[0m \u001b[32m61.0/61.0 kB\u001b[0m \u001b[31m10.5 MB/s\u001b[0m eta \u001b[36m0:00:00\u001b[0m\n",
      "\u001b[?25hCollecting pandas<2.3,>=1.1 (from osmnx)\n",
      "  Downloading pandas-2.2.3-cp312-cp312-manylinux_2_17_x86_64.manylinux2014_x86_64.whl.metadata (89 kB)\n",
      "\u001b[2K     \u001b[90m━━━━━━━━━━━━━━━━━━━━━━━━━━━━━━━━━━━━━━━━\u001b[0m \u001b[32m89.9/89.9 kB\u001b[0m \u001b[31m27.8 MB/s\u001b[0m eta \u001b[36m0:00:00\u001b[0m\n",
      "\u001b[?25hRequirement already satisfied: requests<2.33,>=2.27 in /home/pat/jupyter-venv/lib/python3.12/site-packages (from osmnx) (2.32.3)\n",
      "Collecting shapely<2.1,>=2.0 (from osmnx)\n",
      "  Downloading shapely-2.0.6-cp312-cp312-manylinux_2_17_x86_64.manylinux2014_x86_64.whl.metadata (7.0 kB)\n",
      "Collecting fiona>=1.8.21 (from geopandas<0.15,>=0.12->osmnx)\n",
      "  Downloading fiona-1.10.1-cp312-cp312-manylinux_2_17_x86_64.manylinux2014_x86_64.whl.metadata (56 kB)\n",
      "\u001b[2K     \u001b[90m━━━━━━━━━━━━━━━━━━━━━━━━━━━━━━━━━━━━━━━━\u001b[0m \u001b[32m56.6/56.6 kB\u001b[0m \u001b[31m14.1 MB/s\u001b[0m eta \u001b[36m0:00:00\u001b[0m\n",
      "\u001b[?25hRequirement already satisfied: packaging in /home/pat/jupyter-venv/lib/python3.12/site-packages (from geopandas<0.15,>=0.12->osmnx) (24.2)\n",
      "Collecting pyproj>=3.3.0 (from geopandas<0.15,>=0.12->osmnx)\n",
      "  Downloading pyproj-3.7.0-cp312-cp312-manylinux_2_17_x86_64.manylinux2014_x86_64.whl.metadata (31 kB)\n",
      "Requirement already satisfied: python-dateutil>=2.8.2 in /home/pat/jupyter-venv/lib/python3.12/site-packages (from pandas<2.3,>=1.1->osmnx) (2.9.0.post0)\n",
      "Collecting pytz>=2020.1 (from pandas<2.3,>=1.1->osmnx)\n",
      "  Downloading pytz-2024.2-py2.py3-none-any.whl.metadata (22 kB)\n",
      "Collecting tzdata>=2022.7 (from pandas<2.3,>=1.1->osmnx)\n",
      "  Downloading tzdata-2024.2-py2.py3-none-any.whl.metadata (1.4 kB)\n",
      "Requirement already satisfied: charset-normalizer<4,>=2 in /home/pat/jupyter-venv/lib/python3.12/site-packages (from requests<2.33,>=2.27->osmnx) (3.4.0)\n",
      "Requirement already satisfied: idna<4,>=2.5 in /home/pat/jupyter-venv/lib/python3.12/site-packages (from requests<2.33,>=2.27->osmnx) (3.10)\n",
      "Requirement already satisfied: urllib3<3,>=1.21.1 in /home/pat/jupyter-venv/lib/python3.12/site-packages (from requests<2.33,>=2.27->osmnx) (2.2.3)\n",
      "Requirement already satisfied: certifi>=2017.4.17 in /home/pat/jupyter-venv/lib/python3.12/site-packages (from requests<2.33,>=2.27->osmnx) (2024.8.30)\n",
      "Requirement already satisfied: attrs>=19.2.0 in /home/pat/jupyter-venv/lib/python3.12/site-packages (from fiona>=1.8.21->geopandas<0.15,>=0.12->osmnx) (24.2.0)\n",
      "Collecting click~=8.0 (from fiona>=1.8.21->geopandas<0.15,>=0.12->osmnx)\n",
      "  Downloading click-8.1.7-py3-none-any.whl.metadata (3.0 kB)\n",
      "Collecting click-plugins>=1.0 (from fiona>=1.8.21->geopandas<0.15,>=0.12->osmnx)\n",
      "  Downloading click_plugins-1.1.1-py2.py3-none-any.whl.metadata (6.4 kB)\n",
      "Collecting cligj>=0.5 (from fiona>=1.8.21->geopandas<0.15,>=0.12->osmnx)\n",
      "  Downloading cligj-0.7.2-py3-none-any.whl.metadata (5.0 kB)\n",
      "Requirement already satisfied: six>=1.5 in /home/pat/jupyter-venv/lib/python3.12/site-packages (from python-dateutil>=2.8.2->pandas<2.3,>=1.1->osmnx) (1.16.0)\n",
      "Downloading osmnx-1.9.4-py3-none-any.whl (107 kB)\n",
      "\u001b[2K   \u001b[90m━━━━━━━━━━━━━━━━━━━━━━━━━━━━━━━━━━━━━━━━\u001b[0m \u001b[32m107.5/107.5 kB\u001b[0m \u001b[31m24.7 MB/s\u001b[0m eta \u001b[36m0:00:00\u001b[0m\n",
      "\u001b[?25hDownloading geopandas-0.14.4-py3-none-any.whl (1.1 MB)\n",
      "\u001b[2K   \u001b[90m━━━━━━━━━━━━━━━━━━━━━━━━━━━━━━━━━━━━━━━━\u001b[0m \u001b[32m1.1/1.1 MB\u001b[0m \u001b[31m57.1 MB/s\u001b[0m eta \u001b[36m0:00:00\u001b[0m\n",
      "\u001b[?25hDownloading networkx-3.3-py3-none-any.whl (1.7 MB)\n",
      "\u001b[2K   \u001b[90m━━━━━━━━━━━━━━━━━━━━━━━━━━━━━━━━━━━━━━━━\u001b[0m \u001b[32m1.7/1.7 MB\u001b[0m \u001b[31m59.8 MB/s\u001b[0m eta \u001b[36m0:00:00\u001b[0m\n",
      "\u001b[?25hDownloading numpy-1.26.4-cp312-cp312-manylinux_2_17_x86_64.manylinux2014_x86_64.whl (18.0 MB)\n",
      "\u001b[2K   \u001b[90m━━━━━━━━━━━━━━━━━━━━━━━━━━━━━━━━━━━━━━━━\u001b[0m \u001b[32m18.0/18.0 MB\u001b[0m \u001b[31m46.6 MB/s\u001b[0m eta \u001b[36m0:00:00\u001b[0m00:01\u001b[0m00:01\u001b[0m\n",
      "\u001b[?25hDownloading pandas-2.2.3-cp312-cp312-manylinux_2_17_x86_64.manylinux2014_x86_64.whl (12.7 MB)\n",
      "\u001b[2K   \u001b[90m━━━━━━━━━━━━━━━━━━━━━━━━━━━━━━━━━━━━━━━━\u001b[0m \u001b[32m12.7/12.7 MB\u001b[0m \u001b[31m67.0 MB/s\u001b[0m eta \u001b[36m0:00:00\u001b[0m00:01\u001b[0m0:01\u001b[0mm\n",
      "\u001b[?25hDownloading shapely-2.0.6-cp312-cp312-manylinux_2_17_x86_64.manylinux2014_x86_64.whl (2.5 MB)\n",
      "\u001b[2K   \u001b[90m━━━━━━━━━━━━━━━━━━━━━━━━━━━━━━━━━━━━━━━━\u001b[0m \u001b[32m2.5/2.5 MB\u001b[0m \u001b[31m68.8 MB/s\u001b[0m eta \u001b[36m0:00:00\u001b[0m\n",
      "\u001b[?25hDownloading fiona-1.10.1-cp312-cp312-manylinux_2_17_x86_64.manylinux2014_x86_64.whl (17.2 MB)\n",
      "\u001b[2K   \u001b[90m━━━━━━━━━━━━━━━━━━━━━━━━━━━━━━━━━━━━━━━━\u001b[0m \u001b[32m17.2/17.2 MB\u001b[0m \u001b[31m54.7 MB/s\u001b[0m eta \u001b[36m0:00:00\u001b[0m00:01\u001b[0m00:01\u001b[0m\n",
      "\u001b[?25hDownloading pyproj-3.7.0-cp312-cp312-manylinux_2_17_x86_64.manylinux2014_x86_64.whl (9.5 MB)\n",
      "\u001b[2K   \u001b[90m━━━━━━━━━━━━━━━━━━━━━━━━━━━━━━━━━━━━━━━━\u001b[0m \u001b[32m9.5/9.5 MB\u001b[0m \u001b[31m72.9 MB/s\u001b[0m eta \u001b[36m0:00:00\u001b[0m:00:01\u001b[0m00:01\u001b[0m\n",
      "\u001b[?25hDownloading pytz-2024.2-py2.py3-none-any.whl (508 kB)\n",
      "\u001b[2K   \u001b[90m━━━━━━━━━━━━━━━━━━━━━━━━━━━━━━━━━━━━━━━━\u001b[0m \u001b[32m508.0/508.0 kB\u001b[0m \u001b[31m76.2 MB/s\u001b[0m eta \u001b[36m0:00:00\u001b[0m\n",
      "\u001b[?25hDownloading tzdata-2024.2-py2.py3-none-any.whl (346 kB)\n",
      "\u001b[2K   \u001b[90m━━━━━━━━━━━━━━━━━━━━━━━━━━━━━━━━━━━━━━━━\u001b[0m \u001b[32m346.6/346.6 kB\u001b[0m \u001b[31m63.6 MB/s\u001b[0m eta \u001b[36m0:00:00\u001b[0m\n",
      "\u001b[?25hDownloading click-8.1.7-py3-none-any.whl (97 kB)\n",
      "\u001b[2K   \u001b[90m━━━━━━━━━━━━━━━━━━━━━━━━━━━━━━━━━━━━━━━━\u001b[0m \u001b[32m97.9/97.9 kB\u001b[0m \u001b[31m28.6 MB/s\u001b[0m eta \u001b[36m0:00:00\u001b[0m\n",
      "\u001b[?25hDownloading click_plugins-1.1.1-py2.py3-none-any.whl (7.5 kB)\n",
      "Downloading cligj-0.7.2-py3-none-any.whl (7.1 kB)\n",
      "Installing collected packages: pytz, tzdata, pyproj, numpy, networkx, click, shapely, pandas, cligj, click-plugins, fiona, geopandas, osmnx\n",
      "Successfully installed click-8.1.7 click-plugins-1.1.1 cligj-0.7.2 fiona-1.10.1 geopandas-0.14.4 networkx-3.3 numpy-1.26.4 osmnx-1.9.4 pandas-2.2.3 pyproj-3.7.0 pytz-2024.2 shapely-2.0.6 tzdata-2024.2\n",
      "Note: you may need to restart the kernel to use updated packages.\n"
     ]
    }
   ],
   "source": [
    "pip install osmnx"
   ]
  },
  {
   "cell_type": "code",
   "execution_count": 7,
   "id": "38fb3fe7-4e1b-46b0-b0d0-a00fb107324b",
   "metadata": {},
   "outputs": [
    {
     "name": "stdout",
     "output_type": "stream",
     "text": [
      "Collecting lxml\n",
      "  Downloading lxml-5.3.0-cp312-cp312-manylinux_2_28_x86_64.whl.metadata (3.8 kB)\n",
      "Downloading lxml-5.3.0-cp312-cp312-manylinux_2_28_x86_64.whl (4.9 MB)\n",
      "\u001b[2K   \u001b[90m━━━━━━━━━━━━━━━━━━━━━━━━━━━━━━━━━━━━━━━━\u001b[0m \u001b[32m4.9/4.9 MB\u001b[0m \u001b[31m48.7 MB/s\u001b[0m eta \u001b[36m0:00:00\u001b[0ma \u001b[36m0:00:01\u001b[0m\n",
      "\u001b[?25hInstalling collected packages: lxml\n",
      "Successfully installed lxml-5.3.0\n",
      "Note: you may need to restart the kernel to use updated packages.\n"
     ]
    }
   ],
   "source": [
    "pip install lxml"
   ]
  },
  {
   "cell_type": "code",
   "execution_count": 2,
   "id": "e6209495-7e1e-4cfd-a67c-1c6d4833f9c5",
   "metadata": {},
   "outputs": [
    {
     "name": "stdout",
     "output_type": "stream",
     "text": [
      "Collecting momepy\n",
      "  Downloading momepy-0.8.1-py3-none-any.whl.metadata (1.4 kB)\n",
      "Requirement already satisfied: geopandas>=0.12.0 in /home/pat/jupyter-venv/lib/python3.12/site-packages (from momepy) (0.14.4)\n",
      "Collecting libpysal>=4.12.0 (from momepy)\n",
      "  Downloading libpysal-4.12.1-py3-none-any.whl.metadata (4.8 kB)\n",
      "Requirement already satisfied: networkx>=2.8 in /home/pat/jupyter-venv/lib/python3.12/site-packages (from momepy) (3.3)\n",
      "Requirement already satisfied: packaging in /home/pat/jupyter-venv/lib/python3.12/site-packages (from momepy) (24.2)\n",
      "Requirement already satisfied: pandas>=1.5.1 in /home/pat/jupyter-venv/lib/python3.12/site-packages (from momepy) (2.2.3)\n",
      "Requirement already satisfied: shapely>=2 in /home/pat/jupyter-venv/lib/python3.12/site-packages (from momepy) (2.0.6)\n",
      "Collecting tqdm>=4.63.0 (from momepy)\n",
      "  Downloading tqdm-4.67.0-py3-none-any.whl.metadata (57 kB)\n",
      "\u001b[2K     \u001b[90m━━━━━━━━━━━━━━━━━━━━━━━━━━━━━━━━━━━━━━━━\u001b[0m \u001b[32m57.6/57.6 kB\u001b[0m \u001b[31m14.4 MB/s\u001b[0m eta \u001b[36m0:00:00\u001b[0m\n",
      "\u001b[?25hRequirement already satisfied: fiona>=1.8.21 in /home/pat/jupyter-venv/lib/python3.12/site-packages (from geopandas>=0.12.0->momepy) (1.10.1)\n",
      "Requirement already satisfied: numpy>=1.22 in /home/pat/jupyter-venv/lib/python3.12/site-packages (from geopandas>=0.12.0->momepy) (1.26.4)\n",
      "Requirement already satisfied: pyproj>=3.3.0 in /home/pat/jupyter-venv/lib/python3.12/site-packages (from geopandas>=0.12.0->momepy) (3.7.0)\n",
      "Requirement already satisfied: beautifulsoup4>=4.10 in /home/pat/jupyter-venv/lib/python3.12/site-packages (from libpysal>=4.12.0->momepy) (4.12.3)\n",
      "Requirement already satisfied: platformdirs>=2.0.2 in /home/pat/jupyter-venv/lib/python3.12/site-packages (from libpysal>=4.12.0->momepy) (4.3.6)\n",
      "Requirement already satisfied: requests>=2.27 in /home/pat/jupyter-venv/lib/python3.12/site-packages (from libpysal>=4.12.0->momepy) (2.32.3)\n",
      "Collecting scipy>=1.8 (from libpysal>=4.12.0->momepy)\n",
      "  Downloading scipy-1.14.1-cp312-cp312-manylinux_2_17_x86_64.manylinux2014_x86_64.whl.metadata (60 kB)\n",
      "\u001b[2K     \u001b[90m━━━━━━━━━━━━━━━━━━━━━━━━━━━━━━━━━━━━━━━━\u001b[0m \u001b[32m60.8/60.8 kB\u001b[0m \u001b[31m12.7 MB/s\u001b[0m eta \u001b[36m0:00:00\u001b[0m\n",
      "\u001b[?25hCollecting scikit-learn>=1.1 (from libpysal>=4.12.0->momepy)\n",
      "  Downloading scikit_learn-1.5.2-cp312-cp312-manylinux_2_17_x86_64.manylinux2014_x86_64.whl.metadata (13 kB)\n",
      "Requirement already satisfied: python-dateutil>=2.8.2 in /home/pat/jupyter-venv/lib/python3.12/site-packages (from pandas>=1.5.1->momepy) (2.9.0.post0)\n",
      "Requirement already satisfied: pytz>=2020.1 in /home/pat/jupyter-venv/lib/python3.12/site-packages (from pandas>=1.5.1->momepy) (2024.2)\n",
      "Requirement already satisfied: tzdata>=2022.7 in /home/pat/jupyter-venv/lib/python3.12/site-packages (from pandas>=1.5.1->momepy) (2024.2)\n",
      "Requirement already satisfied: soupsieve>1.2 in /home/pat/jupyter-venv/lib/python3.12/site-packages (from beautifulsoup4>=4.10->libpysal>=4.12.0->momepy) (2.6)\n",
      "Requirement already satisfied: attrs>=19.2.0 in /home/pat/jupyter-venv/lib/python3.12/site-packages (from fiona>=1.8.21->geopandas>=0.12.0->momepy) (24.2.0)\n",
      "Requirement already satisfied: certifi in /home/pat/jupyter-venv/lib/python3.12/site-packages (from fiona>=1.8.21->geopandas>=0.12.0->momepy) (2024.8.30)\n",
      "Requirement already satisfied: click~=8.0 in /home/pat/jupyter-venv/lib/python3.12/site-packages (from fiona>=1.8.21->geopandas>=0.12.0->momepy) (8.1.7)\n",
      "Requirement already satisfied: click-plugins>=1.0 in /home/pat/jupyter-venv/lib/python3.12/site-packages (from fiona>=1.8.21->geopandas>=0.12.0->momepy) (1.1.1)\n",
      "Requirement already satisfied: cligj>=0.5 in /home/pat/jupyter-venv/lib/python3.12/site-packages (from fiona>=1.8.21->geopandas>=0.12.0->momepy) (0.7.2)\n",
      "Requirement already satisfied: six>=1.5 in /home/pat/jupyter-venv/lib/python3.12/site-packages (from python-dateutil>=2.8.2->pandas>=1.5.1->momepy) (1.16.0)\n",
      "Requirement already satisfied: charset-normalizer<4,>=2 in /home/pat/jupyter-venv/lib/python3.12/site-packages (from requests>=2.27->libpysal>=4.12.0->momepy) (3.4.0)\n",
      "Requirement already satisfied: idna<4,>=2.5 in /home/pat/jupyter-venv/lib/python3.12/site-packages (from requests>=2.27->libpysal>=4.12.0->momepy) (3.10)\n",
      "Requirement already satisfied: urllib3<3,>=1.21.1 in /home/pat/jupyter-venv/lib/python3.12/site-packages (from requests>=2.27->libpysal>=4.12.0->momepy) (2.2.3)\n",
      "Collecting joblib>=1.2.0 (from scikit-learn>=1.1->libpysal>=4.12.0->momepy)\n",
      "  Downloading joblib-1.4.2-py3-none-any.whl.metadata (5.4 kB)\n",
      "Collecting threadpoolctl>=3.1.0 (from scikit-learn>=1.1->libpysal>=4.12.0->momepy)\n",
      "  Downloading threadpoolctl-3.5.0-py3-none-any.whl.metadata (13 kB)\n",
      "Downloading momepy-0.8.1-py3-none-any.whl (347 kB)\n",
      "\u001b[2K   \u001b[90m━━━━━━━━━━━━━━━━━━━━━━━━━━━━━━━━━━━━━━━━\u001b[0m \u001b[32m347.4/347.4 kB\u001b[0m \u001b[31m40.4 MB/s\u001b[0m eta \u001b[36m0:00:00\u001b[0m\n",
      "\u001b[?25hDownloading libpysal-4.12.1-py3-none-any.whl (2.8 MB)\n",
      "\u001b[2K   \u001b[90m━━━━━━━━━━━━━━━━━━━━━━━━━━━━━━━━━━━━━━━━\u001b[0m \u001b[32m2.8/2.8 MB\u001b[0m \u001b[31m66.9 MB/s\u001b[0m eta \u001b[36m0:00:00\u001b[0m00:01\u001b[0m\n",
      "\u001b[?25hDownloading tqdm-4.67.0-py3-none-any.whl (78 kB)\n",
      "\u001b[2K   \u001b[90m━━━━━━━━━━━━━━━━━━━━━━━━━━━━━━━━━━━━━━━━\u001b[0m \u001b[32m78.6/78.6 kB\u001b[0m \u001b[31m24.9 MB/s\u001b[0m eta \u001b[36m0:00:00\u001b[0m\n",
      "\u001b[?25hDownloading scikit_learn-1.5.2-cp312-cp312-manylinux_2_17_x86_64.manylinux2014_x86_64.whl (12.9 MB)\n",
      "\u001b[2K   \u001b[90m━━━━━━━━━━━━━━━━━━━━━━━━━━━━━━━━━━━━━━━━\u001b[0m \u001b[32m12.9/12.9 MB\u001b[0m \u001b[31m62.0 MB/s\u001b[0m eta \u001b[36m0:00:00\u001b[0m00:01\u001b[0m00:01\u001b[0m\n",
      "\u001b[?25hDownloading scipy-1.14.1-cp312-cp312-manylinux_2_17_x86_64.manylinux2014_x86_64.whl (40.8 MB)\n",
      "\u001b[2K   \u001b[90m━━━━━━━━━━━━━━━━━━━━━━━━━━━━━━━━━━━━━━━━\u001b[0m \u001b[32m40.8/40.8 MB\u001b[0m \u001b[31m41.3 MB/s\u001b[0m eta \u001b[36m0:00:00\u001b[0m:00:01\u001b[0m00:01\u001b[0m\n",
      "\u001b[?25hDownloading joblib-1.4.2-py3-none-any.whl (301 kB)\n",
      "\u001b[2K   \u001b[90m━━━━━━━━━━━━━━━━━━━━━━━━━━━━━━━━━━━━━━━━\u001b[0m \u001b[32m301.8/301.8 kB\u001b[0m \u001b[31m46.9 MB/s\u001b[0m eta \u001b[36m0:00:00\u001b[0m\n",
      "\u001b[?25hDownloading threadpoolctl-3.5.0-py3-none-any.whl (18 kB)\n",
      "Installing collected packages: tqdm, threadpoolctl, scipy, joblib, scikit-learn, libpysal, momepy\n",
      "Successfully installed joblib-1.4.2 libpysal-4.12.1 momepy-0.8.1 scikit-learn-1.5.2 scipy-1.14.1 threadpoolctl-3.5.0 tqdm-4.67.0\n",
      "Note: you may need to restart the kernel to use updated packages.\n"
     ]
    }
   ],
   "source": [
    "pip install momepy"
   ]
  },
  {
   "cell_type": "code",
   "execution_count": 3,
   "id": "09be4968-8d7c-467e-8552-fbad6dedc6cb",
   "metadata": {},
   "outputs": [
    {
     "name": "stdout",
     "output_type": "stream",
     "text": [
      "Requirement already satisfied: geopandas in /home/pat/jupyter-venv/lib/python3.12/site-packages (0.14.4)\n",
      "Requirement already satisfied: fiona>=1.8.21 in /home/pat/jupyter-venv/lib/python3.12/site-packages (from geopandas) (1.10.1)\n",
      "Requirement already satisfied: numpy>=1.22 in /home/pat/jupyter-venv/lib/python3.12/site-packages (from geopandas) (1.26.4)\n",
      "Requirement already satisfied: packaging in /home/pat/jupyter-venv/lib/python3.12/site-packages (from geopandas) (24.2)\n",
      "Requirement already satisfied: pandas>=1.4.0 in /home/pat/jupyter-venv/lib/python3.12/site-packages (from geopandas) (2.2.3)\n",
      "Requirement already satisfied: pyproj>=3.3.0 in /home/pat/jupyter-venv/lib/python3.12/site-packages (from geopandas) (3.7.0)\n",
      "Requirement already satisfied: shapely>=1.8.0 in /home/pat/jupyter-venv/lib/python3.12/site-packages (from geopandas) (2.0.6)\n",
      "Requirement already satisfied: attrs>=19.2.0 in /home/pat/jupyter-venv/lib/python3.12/site-packages (from fiona>=1.8.21->geopandas) (24.2.0)\n",
      "Requirement already satisfied: certifi in /home/pat/jupyter-venv/lib/python3.12/site-packages (from fiona>=1.8.21->geopandas) (2024.8.30)\n",
      "Requirement already satisfied: click~=8.0 in /home/pat/jupyter-venv/lib/python3.12/site-packages (from fiona>=1.8.21->geopandas) (8.1.7)\n",
      "Requirement already satisfied: click-plugins>=1.0 in /home/pat/jupyter-venv/lib/python3.12/site-packages (from fiona>=1.8.21->geopandas) (1.1.1)\n",
      "Requirement already satisfied: cligj>=0.5 in /home/pat/jupyter-venv/lib/python3.12/site-packages (from fiona>=1.8.21->geopandas) (0.7.2)\n",
      "Requirement already satisfied: python-dateutil>=2.8.2 in /home/pat/jupyter-venv/lib/python3.12/site-packages (from pandas>=1.4.0->geopandas) (2.9.0.post0)\n",
      "Requirement already satisfied: pytz>=2020.1 in /home/pat/jupyter-venv/lib/python3.12/site-packages (from pandas>=1.4.0->geopandas) (2024.2)\n",
      "Requirement already satisfied: tzdata>=2022.7 in /home/pat/jupyter-venv/lib/python3.12/site-packages (from pandas>=1.4.0->geopandas) (2024.2)\n",
      "Requirement already satisfied: six>=1.5 in /home/pat/jupyter-venv/lib/python3.12/site-packages (from python-dateutil>=2.8.2->pandas>=1.4.0->geopandas) (1.16.0)\n",
      "Note: you may need to restart the kernel to use updated packages.\n"
     ]
    }
   ],
   "source": [
    "pip install geopandas"
   ]
  },
  {
   "cell_type": "code",
   "execution_count": 4,
   "id": "1cdfd32e-b216-43ba-89c7-e07447e8408f",
   "metadata": {},
   "outputs": [
    {
     "name": "stdout",
     "output_type": "stream",
     "text": [
      "Collecting folium\n",
      "  Downloading folium-0.18.0-py2.py3-none-any.whl.metadata (3.8 kB)\n",
      "Collecting branca>=0.6.0 (from folium)\n",
      "  Downloading branca-0.8.0-py3-none-any.whl.metadata (1.5 kB)\n",
      "Requirement already satisfied: jinja2>=2.9 in /home/pat/jupyter-venv/lib/python3.12/site-packages (from folium) (3.1.4)\n",
      "Requirement already satisfied: numpy in /home/pat/jupyter-venv/lib/python3.12/site-packages (from folium) (1.26.4)\n",
      "Requirement already satisfied: requests in /home/pat/jupyter-venv/lib/python3.12/site-packages (from folium) (2.32.3)\n",
      "Collecting xyzservices (from folium)\n",
      "  Downloading xyzservices-2024.9.0-py3-none-any.whl.metadata (4.1 kB)\n",
      "Requirement already satisfied: MarkupSafe>=2.0 in /home/pat/jupyter-venv/lib/python3.12/site-packages (from jinja2>=2.9->folium) (3.0.2)\n",
      "Requirement already satisfied: charset-normalizer<4,>=2 in /home/pat/jupyter-venv/lib/python3.12/site-packages (from requests->folium) (3.4.0)\n",
      "Requirement already satisfied: idna<4,>=2.5 in /home/pat/jupyter-venv/lib/python3.12/site-packages (from requests->folium) (3.10)\n",
      "Requirement already satisfied: urllib3<3,>=1.21.1 in /home/pat/jupyter-venv/lib/python3.12/site-packages (from requests->folium) (2.2.3)\n",
      "Requirement already satisfied: certifi>=2017.4.17 in /home/pat/jupyter-venv/lib/python3.12/site-packages (from requests->folium) (2024.8.30)\n",
      "Downloading folium-0.18.0-py2.py3-none-any.whl (108 kB)\n",
      "\u001b[2K   \u001b[90m━━━━━━━━━━━━━━━━━━━━━━━━━━━━━━━━━━━━━━━━\u001b[0m \u001b[32m108.9/108.9 kB\u001b[0m \u001b[31m16.3 MB/s\u001b[0m eta \u001b[36m0:00:00\u001b[0m\n",
      "\u001b[?25hDownloading branca-0.8.0-py3-none-any.whl (25 kB)\n",
      "Downloading xyzservices-2024.9.0-py3-none-any.whl (85 kB)\n",
      "\u001b[2K   \u001b[90m━━━━━━━━━━━━━━━━━━━━━━━━━━━━━━━━━━━━━━━━\u001b[0m \u001b[32m85.1/85.1 kB\u001b[0m \u001b[31m25.2 MB/s\u001b[0m eta \u001b[36m0:00:00\u001b[0m\n",
      "\u001b[?25hInstalling collected packages: xyzservices, branca, folium\n",
      "Successfully installed branca-0.8.0 folium-0.18.0 xyzservices-2024.9.0\n",
      "Note: you may need to restart the kernel to use updated packages.\n"
     ]
    }
   ],
   "source": [
    "pip install folium"
   ]
  },
  {
   "cell_type": "code",
   "execution_count": 5,
   "id": "04c812ad-62d8-4ad8-80a1-492519e1adc2",
   "metadata": {},
   "outputs": [
    {
     "name": "stdout",
     "output_type": "stream",
     "text": [
      "Collecting matplotlib\n",
      "  Downloading matplotlib-3.9.2-cp312-cp312-manylinux_2_17_x86_64.manylinux2014_x86_64.whl.metadata (11 kB)\n",
      "Collecting contourpy>=1.0.1 (from matplotlib)\n",
      "  Downloading contourpy-1.3.1-cp312-cp312-manylinux_2_17_x86_64.manylinux2014_x86_64.whl.metadata (5.4 kB)\n",
      "Collecting cycler>=0.10 (from matplotlib)\n",
      "  Downloading cycler-0.12.1-py3-none-any.whl.metadata (3.8 kB)\n",
      "Collecting fonttools>=4.22.0 (from matplotlib)\n",
      "  Downloading fonttools-4.55.0-cp312-cp312-manylinux_2_5_x86_64.manylinux1_x86_64.manylinux_2_17_x86_64.manylinux2014_x86_64.whl.metadata (164 kB)\n",
      "\u001b[2K     \u001b[90m━━━━━━━━━━━━━━━━━━━━━━━━━━━━━━━━━━━━━━\u001b[0m \u001b[32m164.5/164.5 kB\u001b[0m \u001b[31m28.7 MB/s\u001b[0m eta \u001b[36m0:00:00\u001b[0m\n",
      "\u001b[?25hCollecting kiwisolver>=1.3.1 (from matplotlib)\n",
      "  Downloading kiwisolver-1.4.7-cp312-cp312-manylinux_2_17_x86_64.manylinux2014_x86_64.whl.metadata (6.3 kB)\n",
      "Requirement already satisfied: numpy>=1.23 in /home/pat/jupyter-venv/lib/python3.12/site-packages (from matplotlib) (1.26.4)\n",
      "Requirement already satisfied: packaging>=20.0 in /home/pat/jupyter-venv/lib/python3.12/site-packages (from matplotlib) (24.2)\n",
      "Collecting pillow>=8 (from matplotlib)\n",
      "  Downloading pillow-11.0.0-cp312-cp312-manylinux_2_28_x86_64.whl.metadata (9.1 kB)\n",
      "Collecting pyparsing>=2.3.1 (from matplotlib)\n",
      "  Downloading pyparsing-3.2.0-py3-none-any.whl.metadata (5.0 kB)\n",
      "Requirement already satisfied: python-dateutil>=2.7 in /home/pat/jupyter-venv/lib/python3.12/site-packages (from matplotlib) (2.9.0.post0)\n",
      "Requirement already satisfied: six>=1.5 in /home/pat/jupyter-venv/lib/python3.12/site-packages (from python-dateutil>=2.7->matplotlib) (1.16.0)\n",
      "Downloading matplotlib-3.9.2-cp312-cp312-manylinux_2_17_x86_64.manylinux2014_x86_64.whl (8.3 MB)\n",
      "\u001b[2K   \u001b[90m━━━━━━━━━━━━━━━━━━━━━━━━━━━━━━━━━━━━━━━━\u001b[0m \u001b[32m8.3/8.3 MB\u001b[0m \u001b[31m57.9 MB/s\u001b[0m eta \u001b[36m0:00:00\u001b[0m00:01\u001b[0m00:01\u001b[0m\n",
      "\u001b[?25hDownloading contourpy-1.3.1-cp312-cp312-manylinux_2_17_x86_64.manylinux2014_x86_64.whl (323 kB)\n",
      "\u001b[2K   \u001b[90m━━━━━━━━━━━━━━━━━━━━━━━━━━━━━━━━━━━━━━━━\u001b[0m \u001b[32m323.6/323.6 kB\u001b[0m \u001b[31m47.5 MB/s\u001b[0m eta \u001b[36m0:00:00\u001b[0m\n",
      "\u001b[?25hDownloading cycler-0.12.1-py3-none-any.whl (8.3 kB)\n",
      "Downloading fonttools-4.55.0-cp312-cp312-manylinux_2_5_x86_64.manylinux1_x86_64.manylinux_2_17_x86_64.manylinux2014_x86_64.whl (4.9 MB)\n",
      "\u001b[2K   \u001b[90m━━━━━━━━━━━━━━━━━━━━━━━━━━━━━━━━━━━━━━━━\u001b[0m \u001b[32m4.9/4.9 MB\u001b[0m \u001b[31m55.6 MB/s\u001b[0m eta \u001b[36m0:00:00\u001b[0m00:01\u001b[0m00:01\u001b[0m\n",
      "\u001b[?25hDownloading kiwisolver-1.4.7-cp312-cp312-manylinux_2_17_x86_64.manylinux2014_x86_64.whl (1.5 MB)\n",
      "\u001b[2K   \u001b[90m━━━━━━━━━━━━━━━━━━━━━━━━━━━━━━━━━━━━━━━━\u001b[0m \u001b[32m1.5/1.5 MB\u001b[0m \u001b[31m68.9 MB/s\u001b[0m eta \u001b[36m0:00:00\u001b[0m\n",
      "\u001b[?25hDownloading pillow-11.0.0-cp312-cp312-manylinux_2_28_x86_64.whl (4.4 MB)\n",
      "\u001b[2K   \u001b[90m━━━━━━━━━━━━━━━━━━━━━━━━━━━━━━━━━━━━━━━━\u001b[0m \u001b[32m4.4/4.4 MB\u001b[0m \u001b[31m73.5 MB/s\u001b[0m eta \u001b[36m0:00:00\u001b[0ma \u001b[36m0:00:01\u001b[0m\n",
      "\u001b[?25hDownloading pyparsing-3.2.0-py3-none-any.whl (106 kB)\n",
      "\u001b[2K   \u001b[90m━━━━━━━━━━━━━━━━━━━━━━━━━━━━━━━━━━━━━━━━\u001b[0m \u001b[32m106.9/106.9 kB\u001b[0m \u001b[31m30.1 MB/s\u001b[0m eta \u001b[36m0:00:00\u001b[0m\n",
      "\u001b[?25hInstalling collected packages: pyparsing, pillow, kiwisolver, fonttools, cycler, contourpy, matplotlib\n",
      "Successfully installed contourpy-1.3.1 cycler-0.12.1 fonttools-4.55.0 kiwisolver-1.4.7 matplotlib-3.9.2 pillow-11.0.0 pyparsing-3.2.0\n",
      "Note: you may need to restart the kernel to use updated packages.\n"
     ]
    }
   ],
   "source": [
    "pip install matplotlib"
   ]
  },
  {
   "cell_type": "code",
   "execution_count": 6,
   "id": "c93c439f-231c-433e-9116-882b6c796edc",
   "metadata": {},
   "outputs": [
    {
     "name": "stdout",
     "output_type": "stream",
     "text": [
      "Collecting mapclassify\n",
      "  Downloading mapclassify-2.8.1-py3-none-any.whl.metadata (2.8 kB)\n",
      "Requirement already satisfied: networkx>=2.7 in /home/pat/jupyter-venv/lib/python3.12/site-packages (from mapclassify) (3.3)\n",
      "Requirement already satisfied: numpy>=1.23 in /home/pat/jupyter-venv/lib/python3.12/site-packages (from mapclassify) (1.26.4)\n",
      "Requirement already satisfied: pandas!=1.5.0,>=1.4 in /home/pat/jupyter-venv/lib/python3.12/site-packages (from mapclassify) (2.2.3)\n",
      "Requirement already satisfied: scikit-learn>=1.0 in /home/pat/jupyter-venv/lib/python3.12/site-packages (from mapclassify) (1.5.2)\n",
      "Requirement already satisfied: scipy>=1.8 in /home/pat/jupyter-venv/lib/python3.12/site-packages (from mapclassify) (1.14.1)\n",
      "Requirement already satisfied: python-dateutil>=2.8.2 in /home/pat/jupyter-venv/lib/python3.12/site-packages (from pandas!=1.5.0,>=1.4->mapclassify) (2.9.0.post0)\n",
      "Requirement already satisfied: pytz>=2020.1 in /home/pat/jupyter-venv/lib/python3.12/site-packages (from pandas!=1.5.0,>=1.4->mapclassify) (2024.2)\n",
      "Requirement already satisfied: tzdata>=2022.7 in /home/pat/jupyter-venv/lib/python3.12/site-packages (from pandas!=1.5.0,>=1.4->mapclassify) (2024.2)\n",
      "Requirement already satisfied: joblib>=1.2.0 in /home/pat/jupyter-venv/lib/python3.12/site-packages (from scikit-learn>=1.0->mapclassify) (1.4.2)\n",
      "Requirement already satisfied: threadpoolctl>=3.1.0 in /home/pat/jupyter-venv/lib/python3.12/site-packages (from scikit-learn>=1.0->mapclassify) (3.5.0)\n",
      "Requirement already satisfied: six>=1.5 in /home/pat/jupyter-venv/lib/python3.12/site-packages (from python-dateutil>=2.8.2->pandas!=1.5.0,>=1.4->mapclassify) (1.16.0)\n",
      "Downloading mapclassify-2.8.1-py3-none-any.whl (59 kB)\n",
      "\u001b[2K   \u001b[90m━━━━━━━━━━━━━━━━━━━━━━━━━━━━━━━━━━━━━━━━\u001b[0m \u001b[32m59.1/59.1 kB\u001b[0m \u001b[31m7.2 MB/s\u001b[0m eta \u001b[36m0:00:00\u001b[0m\n",
      "\u001b[?25hInstalling collected packages: mapclassify\n",
      "Successfully installed mapclassify-2.8.1\n",
      "Note: you may need to restart the kernel to use updated packages.\n"
     ]
    }
   ],
   "source": [
    "pip install mapclassify"
   ]
  },
  {
   "cell_type": "code",
   "execution_count": null,
   "id": "d7ca58ae-2986-43a9-a9bc-556178da5316",
   "metadata": {},
   "outputs": [],
   "source": []
  }
 ],
 "metadata": {
  "kernelspec": {
   "display_name": "Python 3 (ipykernel)",
   "language": "python",
   "name": "python3"
  },
  "language_info": {
   "codemirror_mode": {
    "name": "ipython",
    "version": 3
   },
   "file_extension": ".py",
   "mimetype": "text/x-python",
   "name": "python",
   "nbconvert_exporter": "python",
   "pygments_lexer": "ipython3",
   "version": "3.12.3"
  }
 },
 "nbformat": 4,
 "nbformat_minor": 5
}
